{
  "nbformat": 4,
  "nbformat_minor": 0,
  "metadata": {
    "colab": {
      "name": "Linear Algebra Sprint Challenge.ipynb",
      "version": "0.3.2",
      "provenance": [],
      "include_colab_link": true
    },
    "kernelspec": {
      "name": "python3",
      "display_name": "Python 3"
    }
  },
  "cells": [
    {
      "cell_type": "markdown",
      "metadata": {
        "id": "view-in-github",
        "colab_type": "text"
      },
      "source": [
        "<a href=\"https://colab.research.google.com/github/alastra32/DS-Unit-1-Sprint-4-Linear-Algebra/blob/master/Linear_Algebra_Sprint_Challenge%20(1).ipynb\" target=\"_parent\"><img src=\"https://colab.research.google.com/assets/colab-badge.svg\" alt=\"Open In Colab\"/></a>"
      ]
    },
    {
      "cell_type": "markdown",
      "metadata": {
        "id": "-wQxiT7yC4_v",
        "colab_type": "text"
      },
      "source": [
        "#Linear Algebra"
      ]
    },
    {
      "cell_type": "code",
      "metadata": {
        "id": "wdRv3YAEe7eN",
        "colab_type": "code",
        "colab": {}
      },
      "source": [
        "import numpy as np\n",
        "import pandas as pd\n",
        "import seaborn as sns\n",
        "import matplotlib.pyplot as plt\n",
        "%matplotlib inline\n",
        "\n",
        "import math\n",
        "\n",
        "from random import sample \n",
        "import scipy.stats as stats"
      ],
      "execution_count": 0,
      "outputs": []
    },
    {
      "cell_type": "markdown",
      "metadata": {
        "id": "aiUlaNJkECCL",
        "colab_type": "text"
      },
      "source": [
        "## 1.1 Graph vector $\\vec{a}$ \n",
        "\n",
        "\\begin{align}\n",
        "\\vec{a} = \\begin{bmatrix} 3 \\\\ 2 \\end{bmatrix}\n",
        "\\end{align}"
      ]
    },
    {
      "cell_type": "code",
      "metadata": {
        "id": "QpCKt0n5IeiY",
        "colab_type": "code",
        "outputId": "4cedce56-adf4-4018-ebb9-74edc3f6c00b",
        "colab": {
          "base_uri": "https://localhost:8080/",
          "height": 281
        }
      },
      "source": [
        "# Vector Examples \n",
        "\n",
        "blue = [3, 2]\n",
        "\n",
        "plt.arrow(0, 0, 3, 2,  head_width=.2, head_length=0.1, color = 'b')\n",
        "plt.title('Vector a')\n",
        "plt.xlim(0,5)\n",
        "plt.ylim(0,5)\n",
        "plt.show()\n"
      ],
      "execution_count": 2,
      "outputs": [
        {
          "output_type": "display_data",
          "data": {
            "image/png": "[encoded data removed]",
            "text/plain": [
              "<Figure size 432x288 with 1 Axes>"
            ]
          },
          "metadata": {
            "tags": []
          }
        }
      ]
    },
    {
      "cell_type": "markdown",
      "metadata": {
        "id": "BDLB08NXEiUN",
        "colab_type": "text"
      },
      "source": [
        "## 1.2 Find $||\\vec{b}||$. What does the norm of a vector represent?\n",
        "\\begin{align}\n",
        "\\vec{b} = \\begin{bmatrix} 17 & -4 & -2 & 1\\end{bmatrix}\n",
        "\\end{align}\n"
      ]
    },
    {
      "cell_type": "code",
      "metadata": {
        "id": "Fp3mocAKIfGD",
        "colab_type": "code",
        "outputId": "f80fba44-38d7-4c77-d165-e09d8817b406",
        "colab": {
          "base_uri": "https://localhost:8080/",
          "height": 34
        }
      },
      "source": [
        "b=np.array([17,-4,-2,1])\n",
        "\n",
        "bnorm=np.linalg.norm(b)\n",
        "\n",
        "print(bnorm)"
      ],
      "execution_count": 3,
      "outputs": [
        {
          "output_type": "stream",
          "text": [
            "17.60681686165901\n"
          ],
          "name": "stdout"
        }
      ]
    },
    {
      "cell_type": "markdown",
      "metadata": {
        "id": "g9NUewNXfzMB",
        "colab_type": "text"
      },
      "source": [
        "The Norm or Magnitude of a vector is the length of the vector."
      ]
    },
    {
      "cell_type": "markdown",
      "metadata": {
        "id": "vBbJ0ZyPD6RG",
        "colab_type": "text"
      },
      "source": [
        "## 1.3 Find $\\vec{c} \\cdot \\vec{d}$ - Are these vectors orthogonal? Why or why not?\n",
        "\n",
        "\\begin{align}\n",
        "\\vec{c} = \\begin{bmatrix}3 & 7 & -2 & 12\\end{bmatrix}\n",
        "\\qquad\n",
        "\\vec{d} = \\begin{bmatrix}9 & -7 & 4 & 6\\end{bmatrix}\n",
        "\\end{align}"
      ]
    },
    {
      "cell_type": "code",
      "metadata": {
        "id": "NYb8BalmIfgY",
        "colab_type": "code",
        "outputId": "df78f4d5-513e-4378-e28a-ff9713973611",
        "colab": {
          "base_uri": "https://localhost:8080/",
          "height": 34
        }
      },
      "source": [
        "c=np.array([3,7,-2,12])\n",
        "d=np.array([9,-7,4,6])\n",
        "\n",
        "\n",
        "dot=np.dot(c,d)\n",
        "print(dot)"
      ],
      "execution_count": 4,
      "outputs": [
        {
          "output_type": "stream",
          "text": [
            "42\n"
          ],
          "name": "stdout"
        }
      ]
    },
    {
      "cell_type": "markdown",
      "metadata": {
        "id": "aliuAHQxhE85",
        "colab_type": "text"
      },
      "source": [
        "These two vectors are not orthogonal as they are not perpendicular we can see this as their resulting dot product is non-zero"
      ]
    },
    {
      "cell_type": "markdown",
      "metadata": {
        "id": "gS85sJHWG7iU",
        "colab_type": "text"
      },
      "source": [
        "## 1.4 Find $E^{-1}$ and $E^{T}$\n",
        "\n",
        "\\begin{align}\n",
        "E = \n",
        "\\begin{bmatrix}\n",
        "    7 & 4 & 2 \\\\\n",
        "    1 & 3 & -1 \\\\\n",
        "    2 & 6 & -4\n",
        "\\end{bmatrix}\n",
        "\\end{align}"
      ]
    },
    {
      "cell_type": "code",
      "metadata": {
        "id": "QiISq5egIgSS",
        "colab_type": "code",
        "outputId": "da031cef-789e-40e3-cb8c-27ae6e440da7",
        "colab": {
          "base_uri": "https://localhost:8080/",
          "height": 221
        }
      },
      "source": [
        "e=np.matrix([[7,4,2],\n",
        "           [1,3,-1],\n",
        "           [2,6,-4]])\n",
        "\n",
        "em1=np.linalg.inv(e)\n",
        "et=np.transpose(e)\n",
        "\n",
        "print('----Matrix E----')\n",
        "print(e)\n",
        "print('----E^-1-----')\n",
        "print(em1)\n",
        "print('----E^T-----')\n",
        "print(et)"
      ],
      "execution_count": 5,
      "outputs": [
        {
          "output_type": "stream",
          "text": [
            "----Matrix E----\n",
            "[[ 7  4  2]\n",
            " [ 1  3 -1]\n",
            " [ 2  6 -4]]\n",
            "----E^-1-----\n",
            "[[ 0.17647059 -0.82352941  0.29411765]\n",
            " [-0.05882353  0.94117647 -0.26470588]\n",
            " [ 0.          1.         -0.5       ]]\n",
            "----E^T-----\n",
            "[[ 7  1  2]\n",
            " [ 4  3  6]\n",
            " [ 2 -1 -4]]\n"
          ],
          "name": "stdout"
        }
      ]
    },
    {
      "cell_type": "markdown",
      "metadata": {
        "id": "TPzrKzEvC5YU",
        "colab_type": "text"
      },
      "source": [
        "# Intermediate Linear Algebra"
      ]
    },
    {
      "cell_type": "markdown",
      "metadata": {
        "id": "ap-us2lBGQyi",
        "colab_type": "text"
      },
      "source": [
        "## 2.1 Suppose that the number of customers at a ski resort as well as the number of inches of fresh powder (snow)  was recorded for 7 days. \n",
        "\n",
        "### Customers: [820, 760, 1250, 990, 1080, 1450, 1600]\n",
        "\n",
        "### Inches of new snow: [0, 1, 7, 1, 0, 6, 4 ]\n",
        "\n",
        "## Find the mean, variance, and standard deviation for both the number of customers and inches of new snow for the week. You may use library functions, dataframes, .describe(), etc. \n",
        "\n"
      ]
    },
    {
      "cell_type": "code",
      "metadata": {
        "id": "xS-JuHl9JiiP",
        "colab_type": "code",
        "outputId": "c8d998e1-782c-465b-f8db-c84a14832777",
        "colab": {
          "base_uri": "https://localhost:8080/",
          "height": 204
        }
      },
      "source": [
        "import pandas as pd\n",
        "\n",
        "customers = [820, 760, 1250, 990, 1080, 1450, 1600]\n",
        "snow = [0, 1, 7, 1, 0, 6, 4]\n",
        "\n",
        "df = pd.DataFrame({'customers': customers, 'snow': snow})\n",
        "\n",
        "df.head()"
      ],
      "execution_count": 33,
      "outputs": [
        {
          "output_type": "execute_result",
          "data": {
            "text/html": [
              "<div>\n",
              "<style scoped>\n",
              "    .dataframe tbody tr th:only-of-type {\n",
              "        vertical-align: middle;\n",
              "    }\n",
              "\n",
              "    .dataframe tbody tr th {\n",
              "        vertical-align: top;\n",
              "    }\n",
              "\n",
              "    .dataframe thead th {\n",
              "        text-align: right;\n",
              "    }\n",
              "</style>\n",
              "<table border=\"1\" class=\"dataframe\">\n",
              "  <thead>\n",
              "    <tr style=\"text-align: right;\">\n",
              "      <th></th>\n",
              "      <th>customers</th>\n",
              "      <th>snow</th>\n",
              "    </tr>\n",
              "  </thead>\n",
              "  <tbody>\n",
              "    <tr>\n",
              "      <th>0</th>\n",
              "      <td>820</td>\n",
              "      <td>0</td>\n",
              "    </tr>\n",
              "    <tr>\n",
              "      <th>1</th>\n",
              "      <td>760</td>\n",
              "      <td>1</td>\n",
              "    </tr>\n",
              "    <tr>\n",
              "      <th>2</th>\n",
              "      <td>1250</td>\n",
              "      <td>7</td>\n",
              "    </tr>\n",
              "    <tr>\n",
              "      <th>3</th>\n",
              "      <td>990</td>\n",
              "      <td>1</td>\n",
              "    </tr>\n",
              "    <tr>\n",
              "      <th>4</th>\n",
              "      <td>1080</td>\n",
              "      <td>0</td>\n",
              "    </tr>\n",
              "  </tbody>\n",
              "</table>\n",
              "</div>"
            ],
            "text/plain": [
              "   customers  snow\n",
              "0        820     0\n",
              "1        760     1\n",
              "2       1250     7\n",
              "3        990     1\n",
              "4       1080     0"
            ]
          },
          "metadata": {
            "tags": []
          },
          "execution_count": 33
        }
      ]
    },
    {
      "cell_type": "code",
      "metadata": {
        "id": "cNxeVa0cg40d",
        "colab_type": "code",
        "colab": {}
      },
      "source": [
        "##### Your Code Here #####\n",
        "\n",
        "\n",
        "#sample\n",
        "def sqrt(n):\n",
        "  return n ** 0.5\n",
        "\n",
        "def variance(nums):\n",
        "  mean = sum(nums) / len(nums)\n",
        "  return sum((x - mean) ** 2 for x in nums) / (len(nums))\n",
        "\n",
        "def stdev(nums):\n",
        "  mean = sum(nums) / len(nums)\n",
        "  return sqrt(sum((x - mean) ** 2 for x in nums) / (len(nums)))\n",
        "\n",
        "def mean(nums):\n",
        "  return sum(nums) / len(nums)\n",
        "\n",
        "\n"
      ],
      "execution_count": 0,
      "outputs": []
    },
    {
      "cell_type": "code",
      "metadata": {
        "id": "5abMq6N0i3Pa",
        "colab_type": "code",
        "outputId": "afd61036-280e-4713-94b8-d42f0562d159",
        "colab": {
          "base_uri": "https://localhost:8080/",
          "height": 85
        }
      },
      "source": [
        "print(f'---Customers: {customers}---')\n",
        "print(f'---Mean: {mean(customers)}---')\n",
        "print(f'---Variance: {variance(customers)}---')\n",
        "print(f'---StDev: {stdev(customers)}---')\n",
        "  "
      ],
      "execution_count": 35,
      "outputs": [
        {
          "output_type": "stream",
          "text": [
            "---Customers: [820, 760, 1250, 990, 1080, 1450, 1600]---\n",
            "---Mean: 1135.7142857142858---\n",
            "---Variance: 84653.06122448981---\n",
            "---StDev: 290.95199127087926---\n"
          ],
          "name": "stdout"
        }
      ]
    },
    {
      "cell_type": "code",
      "metadata": {
        "id": "dVC4IRSEjCgO",
        "colab_type": "code",
        "outputId": "07c857c1-bc38-4567-c223-971bad1ccc72",
        "colab": {
          "base_uri": "https://localhost:8080/",
          "height": 85
        }
      },
      "source": [
        "print(f'---Inches of new Snow: {snow}---')\n",
        "print(f'---Mean: {mean(snow)}---')\n",
        "print(f'---Variance: {variance(snow)}---')\n",
        "print(f'---StDev: {stdev(snow)}---')\n",
        "  "
      ],
      "execution_count": 36,
      "outputs": [
        {
          "output_type": "stream",
          "text": [
            "---Inches of new Snow: [0, 1, 7, 1, 0, 6, 4]---\n",
            "---Mean: 2.7142857142857144---\n",
            "---Variance: 7.346938775510203---\n",
            "---StDev: 2.7105237087157534---\n"
          ],
          "name": "stdout"
        }
      ]
    },
    {
      "cell_type": "markdown",
      "metadata": {
        "id": "3ePJtK4VLTLH",
        "colab_type": "text"
      },
      "source": [
        "## 2.2 Are the variances of the number of customers and inches of snow comparable? \n",
        "## Why or why not? "
      ]
    },
    {
      "cell_type": "markdown",
      "metadata": {
        "id": "QySMK6YpjYzx",
        "colab_type": "text"
      },
      "source": [
        "Variance is a measure of the spread of numbers in a dataset. Both customers and inches of snow are measured in different measurements ,therefore their variances aren't comparable."
      ]
    },
    {
      "cell_type": "markdown",
      "metadata": {
        "id": "ixhZVGxfGVFh",
        "colab_type": "text"
      },
      "source": [
        "## 2.3 Find the variance-covariance matrix for the number of customers and inches of snow at the ski resort. "
      ]
    },
    {
      "cell_type": "code",
      "metadata": {
        "id": "IbglmVaxJjO7",
        "colab_type": "code",
        "outputId": "b94d323a-de4e-4a38-9ecd-0c1922cf26b6",
        "colab": {
          "base_uri": "https://localhost:8080/",
          "height": 111
        }
      },
      "source": [
        "df.cov() #variance-covariance matrix"
      ],
      "execution_count": 37,
      "outputs": [
        {
          "output_type": "execute_result",
          "data": {
            "text/html": [
              "<div>\n",
              "<style scoped>\n",
              "    .dataframe tbody tr th:only-of-type {\n",
              "        vertical-align: middle;\n",
              "    }\n",
              "\n",
              "    .dataframe tbody tr th {\n",
              "        vertical-align: top;\n",
              "    }\n",
              "\n",
              "    .dataframe thead th {\n",
              "        text-align: right;\n",
              "    }\n",
              "</style>\n",
              "<table border=\"1\" class=\"dataframe\">\n",
              "  <thead>\n",
              "    <tr style=\"text-align: right;\">\n",
              "      <th></th>\n",
              "      <th>customers</th>\n",
              "      <th>snow</th>\n",
              "    </tr>\n",
              "  </thead>\n",
              "  <tbody>\n",
              "    <tr>\n",
              "      <th>customers</th>\n",
              "      <td>98761.904762</td>\n",
              "      <td>670.238095</td>\n",
              "    </tr>\n",
              "    <tr>\n",
              "      <th>snow</th>\n",
              "      <td>670.238095</td>\n",
              "      <td>8.571429</td>\n",
              "    </tr>\n",
              "  </tbody>\n",
              "</table>\n",
              "</div>"
            ],
            "text/plain": [
              "              customers        snow\n",
              "customers  98761.904762  670.238095\n",
              "snow         670.238095    8.571429"
            ]
          },
          "metadata": {
            "tags": []
          },
          "execution_count": 37
        }
      ]
    },
    {
      "cell_type": "code",
      "metadata": {
        "id": "QtCJfwYJkZ00",
        "colab_type": "code",
        "outputId": "d931a167-5ac0-4c15-97be-2996b6e10353",
        "colab": {
          "base_uri": "https://localhost:8080/",
          "height": 111
        }
      },
      "source": [
        "df.corr()#correlation matrix"
      ],
      "execution_count": 38,
      "outputs": [
        {
          "output_type": "execute_result",
          "data": {
            "text/html": [
              "<div>\n",
              "<style scoped>\n",
              "    .dataframe tbody tr th:only-of-type {\n",
              "        vertical-align: middle;\n",
              "    }\n",
              "\n",
              "    .dataframe tbody tr th {\n",
              "        vertical-align: top;\n",
              "    }\n",
              "\n",
              "    .dataframe thead th {\n",
              "        text-align: right;\n",
              "    }\n",
              "</style>\n",
              "<table border=\"1\" class=\"dataframe\">\n",
              "  <thead>\n",
              "    <tr style=\"text-align: right;\">\n",
              "      <th></th>\n",
              "      <th>customers</th>\n",
              "      <th>snow</th>\n",
              "    </tr>\n",
              "  </thead>\n",
              "  <tbody>\n",
              "    <tr>\n",
              "      <th>customers</th>\n",
              "      <td>1.000000</td>\n",
              "      <td>0.728463</td>\n",
              "    </tr>\n",
              "    <tr>\n",
              "      <th>snow</th>\n",
              "      <td>0.728463</td>\n",
              "      <td>1.000000</td>\n",
              "    </tr>\n",
              "  </tbody>\n",
              "</table>\n",
              "</div>"
            ],
            "text/plain": [
              "           customers      snow\n",
              "customers   1.000000  0.728463\n",
              "snow        0.728463  1.000000"
            ]
          },
          "metadata": {
            "tags": []
          },
          "execution_count": 38
        }
      ]
    },
    {
      "cell_type": "markdown",
      "metadata": {
        "id": "6Ks3_TbNC5yJ",
        "colab_type": "text"
      },
      "source": [
        "# PCA"
      ]
    },
    {
      "cell_type": "markdown",
      "metadata": {
        "id": "f6qJAPaaOdzD",
        "colab_type": "text"
      },
      "source": [
        "## 3.1 Standardize the data so that it has a mean of 0 and a standard deviation of 1. (You may use library functions)\n",
        "\n",
        "We have included some code to get you started so that you don't get stuck on something that isn't standardizing the data or PCA.\n",
        "\n",
        "This might be helpful:\n",
        "\n",
        "<https://scikit-learn.org/stable/modules/generated/sklearn.preprocessing.StandardScaler.html>"
      ]
    },
    {
      "cell_type": "code",
      "metadata": {
        "id": "bogsxfNyJlAw",
        "colab_type": "code",
        "outputId": "7a9e7de4-9cdb-459b-9739-ac9832b215fb",
        "colab": {
          "base_uri": "https://localhost:8080/",
          "height": 173
        }
      },
      "source": [
        "# Let me get you some data to start you off.\n",
        "import pandas as pd\n",
        "\n",
        "data = {\"Country\": [\"England\",\"Wales\",\"Scotland\",\"North Ireland\"], \n",
        "        \"Cheese\": [105,103,103,66], \n",
        "        \"Carcass_Meat\": [245,227,242,267], \n",
        "        \"Other_Meat\": [685, 803, 750, 586], \n",
        "        \"Fish\": [147, 160, 122, 93], \n",
        "        \"Fats_and_Oils\": [193, 235, 184, 209], \n",
        "        \"Sugars\": [156, 175, 147, 139], \n",
        "        \"Fresh_Potatoes\": [720, 874, 566, 1033], \n",
        "        \"Fresh_Veg\": [253, 265, 171, 143], \n",
        "        \"Other_Veg\": [488, 570, 418, 355], \n",
        "        \"Processed_Potatoes\": [198, 203, 220, 187], \n",
        "        \"Processed_Veg\": [360, 365, 337, 334], \n",
        "        \"Fresh_Fruit\": [1102, 1137, 957, 674], \n",
        "        \"Cereals\": [1472, 1582, 1462, 1494], \n",
        "        \"Beverages\": [57,73,53,47], \n",
        "        \"Soft_Drinks\": [1374, 1256, 1572, 1506], \n",
        "        \"Alcoholic Drinks\": [375, 475, 458, 135], \n",
        "        \"Confectionery\": [54, 64, 62, 41]}\n",
        "\n",
        "df = pd.DataFrame(data)\n",
        "\n",
        "# Look at the data\n",
        "df.head()"
      ],
      "execution_count": 39,
      "outputs": [
        {
          "output_type": "execute_result",
          "data": {
            "text/html": [
              "<div>\n",
              "<style scoped>\n",
              "    .dataframe tbody tr th:only-of-type {\n",
              "        vertical-align: middle;\n",
              "    }\n",
              "\n",
              "    .dataframe tbody tr th {\n",
              "        vertical-align: top;\n",
              "    }\n",
              "\n",
              "    .dataframe thead th {\n",
              "        text-align: right;\n",
              "    }\n",
              "</style>\n",
              "<table border=\"1\" class=\"dataframe\">\n",
              "  <thead>\n",
              "    <tr style=\"text-align: right;\">\n",
              "      <th></th>\n",
              "      <th>Country</th>\n",
              "      <th>Cheese</th>\n",
              "      <th>Carcass_Meat</th>\n",
              "      <th>Other_Meat</th>\n",
              "      <th>Fish</th>\n",
              "      <th>Fats_and_Oils</th>\n",
              "      <th>Sugars</th>\n",
              "      <th>Fresh_Potatoes</th>\n",
              "      <th>Fresh_Veg</th>\n",
              "      <th>Other_Veg</th>\n",
              "      <th>Processed_Potatoes</th>\n",
              "      <th>Processed_Veg</th>\n",
              "      <th>Fresh_Fruit</th>\n",
              "      <th>Cereals</th>\n",
              "      <th>Beverages</th>\n",
              "      <th>Soft_Drinks</th>\n",
              "      <th>Alcoholic Drinks</th>\n",
              "      <th>Confectionery</th>\n",
              "    </tr>\n",
              "  </thead>\n",
              "  <tbody>\n",
              "    <tr>\n",
              "      <th>0</th>\n",
              "      <td>England</td>\n",
              "      <td>105</td>\n",
              "      <td>245</td>\n",
              "      <td>685</td>\n",
              "      <td>147</td>\n",
              "      <td>193</td>\n",
              "      <td>156</td>\n",
              "      <td>720</td>\n",
              "      <td>253</td>\n",
              "      <td>488</td>\n",
              "      <td>198</td>\n",
              "      <td>360</td>\n",
              "      <td>1102</td>\n",
              "      <td>1472</td>\n",
              "      <td>57</td>\n",
              "      <td>1374</td>\n",
              "      <td>375</td>\n",
              "      <td>54</td>\n",
              "    </tr>\n",
              "    <tr>\n",
              "      <th>1</th>\n",
              "      <td>Wales</td>\n",
              "      <td>103</td>\n",
              "      <td>227</td>\n",
              "      <td>803</td>\n",
              "      <td>160</td>\n",
              "      <td>235</td>\n",
              "      <td>175</td>\n",
              "      <td>874</td>\n",
              "      <td>265</td>\n",
              "      <td>570</td>\n",
              "      <td>203</td>\n",
              "      <td>365</td>\n",
              "      <td>1137</td>\n",
              "      <td>1582</td>\n",
              "      <td>73</td>\n",
              "      <td>1256</td>\n",
              "      <td>475</td>\n",
              "      <td>64</td>\n",
              "    </tr>\n",
              "    <tr>\n",
              "      <th>2</th>\n",
              "      <td>Scotland</td>\n",
              "      <td>103</td>\n",
              "      <td>242</td>\n",
              "      <td>750</td>\n",
              "      <td>122</td>\n",
              "      <td>184</td>\n",
              "      <td>147</td>\n",
              "      <td>566</td>\n",
              "      <td>171</td>\n",
              "      <td>418</td>\n",
              "      <td>220</td>\n",
              "      <td>337</td>\n",
              "      <td>957</td>\n",
              "      <td>1462</td>\n",
              "      <td>53</td>\n",
              "      <td>1572</td>\n",
              "      <td>458</td>\n",
              "      <td>62</td>\n",
              "    </tr>\n",
              "    <tr>\n",
              "      <th>3</th>\n",
              "      <td>North Ireland</td>\n",
              "      <td>66</td>\n",
              "      <td>267</td>\n",
              "      <td>586</td>\n",
              "      <td>93</td>\n",
              "      <td>209</td>\n",
              "      <td>139</td>\n",
              "      <td>1033</td>\n",
              "      <td>143</td>\n",
              "      <td>355</td>\n",
              "      <td>187</td>\n",
              "      <td>334</td>\n",
              "      <td>674</td>\n",
              "      <td>1494</td>\n",
              "      <td>47</td>\n",
              "      <td>1506</td>\n",
              "      <td>135</td>\n",
              "      <td>41</td>\n",
              "    </tr>\n",
              "  </tbody>\n",
              "</table>\n",
              "</div>"
            ],
            "text/plain": [
              "         Country  Cheese  ...  Alcoholic Drinks  Confectionery\n",
              "0        England     105  ...               375             54\n",
              "1          Wales     103  ...               475             64\n",
              "2       Scotland     103  ...               458             62\n",
              "3  North Ireland      66  ...               135             41\n",
              "\n",
              "[4 rows x 18 columns]"
            ]
          },
          "metadata": {
            "tags": []
          },
          "execution_count": 39
        }
      ]
    },
    {
      "cell_type": "code",
      "metadata": {
        "id": "2HY91nOpaTTZ",
        "colab_type": "code",
        "outputId": "deaf1010-2247-4370-ff2b-1bc9d3ef0400",
        "colab": {
          "base_uri": "https://localhost:8080/",
          "height": 173
        }
      },
      "source": [
        "##### Your Code Here #####\n",
        "\n",
        "from sklearn.preprocessing import StandardScaler\n",
        "\n",
        "\n",
        "features = ['Cheese', 'Carcass_Meat', 'Other_Meat', 'Fish',\n",
        "       'Fats_and_Oils', 'Sugars', 'Fresh_Potatoes', 'Fresh_Veg', 'Other_Veg',\n",
        "       'Processed_Potatoes', 'Processed_Veg', 'Fresh_Fruit', 'Cereals',\n",
        "       'Beverages', 'Soft_Drinks', 'Alcoholic Drinks', 'Confectionery']\n",
        "# Separating out the features\n",
        "x = df.loc[:, features].values\n",
        "# Separating out the target\n",
        "y = df.loc[:,['Country']].values\n",
        "# Standardizing the features\n",
        "x = StandardScaler(with_mean=True,with_std=True).fit_transform(x)\n",
        "\n",
        "standardized = pd.DataFrame(x,columns=features)\n",
        "\n",
        "standardized.head()"
      ],
      "execution_count": 40,
      "outputs": [
        {
          "output_type": "execute_result",
          "data": {
            "text/html": [
              "<div>\n",
              "<style scoped>\n",
              "    .dataframe tbody tr th:only-of-type {\n",
              "        vertical-align: middle;\n",
              "    }\n",
              "\n",
              "    .dataframe tbody tr th {\n",
              "        vertical-align: top;\n",
              "    }\n",
              "\n",
              "    .dataframe thead th {\n",
              "        text-align: right;\n",
              "    }\n",
              "</style>\n",
              "<table border=\"1\" class=\"dataframe\">\n",
              "  <thead>\n",
              "    <tr style=\"text-align: right;\">\n",
              "      <th></th>\n",
              "      <th>Cheese</th>\n",
              "      <th>Carcass_Meat</th>\n",
              "      <th>Other_Meat</th>\n",
              "      <th>Fish</th>\n",
              "      <th>Fats_and_Oils</th>\n",
              "      <th>Sugars</th>\n",
              "      <th>Fresh_Potatoes</th>\n",
              "      <th>Fresh_Veg</th>\n",
              "      <th>Other_Veg</th>\n",
              "      <th>Processed_Potatoes</th>\n",
              "      <th>Processed_Veg</th>\n",
              "      <th>Fresh_Fruit</th>\n",
              "      <th>Cereals</th>\n",
              "      <th>Beverages</th>\n",
              "      <th>Soft_Drinks</th>\n",
              "      <th>Alcoholic Drinks</th>\n",
              "      <th>Confectionery</th>\n",
              "    </tr>\n",
              "  </thead>\n",
              "  <tbody>\n",
              "    <tr>\n",
              "      <th>0</th>\n",
              "      <td>0.658275</td>\n",
              "      <td>-0.017495</td>\n",
              "      <td>-0.259546</td>\n",
              "      <td>0.644585</td>\n",
              "      <td>-0.632429</td>\n",
              "      <td>0.130551</td>\n",
              "      <td>-0.450076</td>\n",
              "      <td>0.863312</td>\n",
              "      <td>0.377736</td>\n",
              "      <td>-0.336265</td>\n",
              "      <td>0.805477</td>\n",
              "      <td>0.737407</td>\n",
              "      <td>-0.644322</td>\n",
              "      <td>-0.051917</td>\n",
              "      <td>-0.435231</td>\n",
              "      <td>0.104998</td>\n",
              "      <td>-0.138303</td>\n",
              "    </tr>\n",
              "    <tr>\n",
              "      <th>1</th>\n",
              "      <td>0.535805</td>\n",
              "      <td>-1.277169</td>\n",
              "      <td>1.198856</td>\n",
              "      <td>1.152440</td>\n",
              "      <td>1.535899</td>\n",
              "      <td>1.547958</td>\n",
              "      <td>0.435696</td>\n",
              "      <td>1.093528</td>\n",
              "      <td>1.401682</td>\n",
              "      <td>0.084066</td>\n",
              "      <td>1.171603</td>\n",
              "      <td>0.929297</td>\n",
              "      <td>1.679463</td>\n",
              "      <td>1.609440</td>\n",
              "      <td>-1.404236</td>\n",
              "      <td>0.841823</td>\n",
              "      <td>0.968122</td>\n",
              "    </tr>\n",
              "    <tr>\n",
              "      <th>2</th>\n",
              "      <td>0.535805</td>\n",
              "      <td>-0.227441</td>\n",
              "      <td>0.543811</td>\n",
              "      <td>-0.332059</td>\n",
              "      <td>-1.097071</td>\n",
              "      <td>-0.540853</td>\n",
              "      <td>-1.335847</td>\n",
              "      <td>-0.709834</td>\n",
              "      <td>-0.496364</td>\n",
              "      <td>1.513193</td>\n",
              "      <td>-0.878702</td>\n",
              "      <td>-0.057567</td>\n",
              "      <td>-0.855575</td>\n",
              "      <td>-0.467257</td>\n",
              "      <td>1.190727</td>\n",
              "      <td>0.716563</td>\n",
              "      <td>0.746837</td>\n",
              "    </tr>\n",
              "    <tr>\n",
              "      <th>3</th>\n",
              "      <td>-1.729885</td>\n",
              "      <td>1.522105</td>\n",
              "      <td>-1.483121</td>\n",
              "      <td>-1.464967</td>\n",
              "      <td>0.193601</td>\n",
              "      <td>-1.137656</td>\n",
              "      <td>1.350227</td>\n",
              "      <td>-1.247006</td>\n",
              "      <td>-1.283054</td>\n",
              "      <td>-1.260994</td>\n",
              "      <td>-1.098378</td>\n",
              "      <td>-1.609137</td>\n",
              "      <td>-0.179565</td>\n",
              "      <td>-1.090266</td>\n",
              "      <td>0.648741</td>\n",
              "      <td>-1.663384</td>\n",
              "      <td>-1.576656</td>\n",
              "    </tr>\n",
              "  </tbody>\n",
              "</table>\n",
              "</div>"
            ],
            "text/plain": [
              "     Cheese  Carcass_Meat  ...  Alcoholic Drinks  Confectionery\n",
              "0  0.658275     -0.017495  ...          0.104998      -0.138303\n",
              "1  0.535805     -1.277169  ...          0.841823       0.968122\n",
              "2  0.535805     -0.227441  ...          0.716563       0.746837\n",
              "3 -1.729885      1.522105  ...         -1.663384      -1.576656\n",
              "\n",
              "[4 rows x 17 columns]"
            ]
          },
          "metadata": {
            "tags": []
          },
          "execution_count": 40
        }
      ]
    },
    {
      "cell_type": "code",
      "metadata": {
        "id": "UCsz2jrYoMFz",
        "colab_type": "code",
        "outputId": "27f42c1e-3125-4ab5-e235-dd44fba6440b",
        "colab": {
          "base_uri": "https://localhost:8080/",
          "height": 297
        }
      },
      "source": [
        "round(standardized.describe(),2)"
      ],
      "execution_count": 41,
      "outputs": [
        {
          "output_type": "execute_result",
          "data": {
            "text/html": [
              "<div>\n",
              "<style scoped>\n",
              "    .dataframe tbody tr th:only-of-type {\n",
              "        vertical-align: middle;\n",
              "    }\n",
              "\n",
              "    .dataframe tbody tr th {\n",
              "        vertical-align: top;\n",
              "    }\n",
              "\n",
              "    .dataframe thead th {\n",
              "        text-align: right;\n",
              "    }\n",
              "</style>\n",
              "<table border=\"1\" class=\"dataframe\">\n",
              "  <thead>\n",
              "    <tr style=\"text-align: right;\">\n",
              "      <th></th>\n",
              "      <th>Cheese</th>\n",
              "      <th>Carcass_Meat</th>\n",
              "      <th>Other_Meat</th>\n",
              "      <th>Fish</th>\n",
              "      <th>Fats_and_Oils</th>\n",
              "      <th>Sugars</th>\n",
              "      <th>Fresh_Potatoes</th>\n",
              "      <th>Fresh_Veg</th>\n",
              "      <th>Other_Veg</th>\n",
              "      <th>Processed_Potatoes</th>\n",
              "      <th>Processed_Veg</th>\n",
              "      <th>Fresh_Fruit</th>\n",
              "      <th>Cereals</th>\n",
              "      <th>Beverages</th>\n",
              "      <th>Soft_Drinks</th>\n",
              "      <th>Alcoholic Drinks</th>\n",
              "      <th>Confectionery</th>\n",
              "    </tr>\n",
              "  </thead>\n",
              "  <tbody>\n",
              "    <tr>\n",
              "      <th>count</th>\n",
              "      <td>4.00</td>\n",
              "      <td>4.00</td>\n",
              "      <td>4.00</td>\n",
              "      <td>4.00</td>\n",
              "      <td>4.00</td>\n",
              "      <td>4.00</td>\n",
              "      <td>4.00</td>\n",
              "      <td>4.00</td>\n",
              "      <td>4.00</td>\n",
              "      <td>4.00</td>\n",
              "      <td>4.00</td>\n",
              "      <td>4.00</td>\n",
              "      <td>4.00</td>\n",
              "      <td>4.00</td>\n",
              "      <td>4.00</td>\n",
              "      <td>4.00</td>\n",
              "      <td>4.00</td>\n",
              "    </tr>\n",
              "    <tr>\n",
              "      <th>mean</th>\n",
              "      <td>0.00</td>\n",
              "      <td>0.00</td>\n",
              "      <td>0.00</td>\n",
              "      <td>0.00</td>\n",
              "      <td>0.00</td>\n",
              "      <td>-0.00</td>\n",
              "      <td>0.00</td>\n",
              "      <td>0.00</td>\n",
              "      <td>0.00</td>\n",
              "      <td>0.00</td>\n",
              "      <td>-0.00</td>\n",
              "      <td>0.00</td>\n",
              "      <td>0.00</td>\n",
              "      <td>-0.00</td>\n",
              "      <td>-0.00</td>\n",
              "      <td>0.00</td>\n",
              "      <td>0.00</td>\n",
              "    </tr>\n",
              "    <tr>\n",
              "      <th>std</th>\n",
              "      <td>1.15</td>\n",
              "      <td>1.15</td>\n",
              "      <td>1.15</td>\n",
              "      <td>1.15</td>\n",
              "      <td>1.15</td>\n",
              "      <td>1.15</td>\n",
              "      <td>1.15</td>\n",
              "      <td>1.15</td>\n",
              "      <td>1.15</td>\n",
              "      <td>1.15</td>\n",
              "      <td>1.15</td>\n",
              "      <td>1.15</td>\n",
              "      <td>1.15</td>\n",
              "      <td>1.15</td>\n",
              "      <td>1.15</td>\n",
              "      <td>1.15</td>\n",
              "      <td>1.15</td>\n",
              "    </tr>\n",
              "    <tr>\n",
              "      <th>min</th>\n",
              "      <td>-1.73</td>\n",
              "      <td>-1.28</td>\n",
              "      <td>-1.48</td>\n",
              "      <td>-1.46</td>\n",
              "      <td>-1.10</td>\n",
              "      <td>-1.14</td>\n",
              "      <td>-1.34</td>\n",
              "      <td>-1.25</td>\n",
              "      <td>-1.28</td>\n",
              "      <td>-1.26</td>\n",
              "      <td>-1.10</td>\n",
              "      <td>-1.61</td>\n",
              "      <td>-0.86</td>\n",
              "      <td>-1.09</td>\n",
              "      <td>-1.40</td>\n",
              "      <td>-1.66</td>\n",
              "      <td>-1.58</td>\n",
              "    </tr>\n",
              "    <tr>\n",
              "      <th>25%</th>\n",
              "      <td>-0.03</td>\n",
              "      <td>-0.49</td>\n",
              "      <td>-0.57</td>\n",
              "      <td>-0.62</td>\n",
              "      <td>-0.75</td>\n",
              "      <td>-0.69</td>\n",
              "      <td>-0.67</td>\n",
              "      <td>-0.84</td>\n",
              "      <td>-0.69</td>\n",
              "      <td>-0.57</td>\n",
              "      <td>-0.93</td>\n",
              "      <td>-0.45</td>\n",
              "      <td>-0.70</td>\n",
              "      <td>-0.62</td>\n",
              "      <td>-0.68</td>\n",
              "      <td>-0.34</td>\n",
              "      <td>-0.50</td>\n",
              "    </tr>\n",
              "    <tr>\n",
              "      <th>50%</th>\n",
              "      <td>0.54</td>\n",
              "      <td>-0.12</td>\n",
              "      <td>0.14</td>\n",
              "      <td>0.16</td>\n",
              "      <td>-0.22</td>\n",
              "      <td>-0.21</td>\n",
              "      <td>-0.01</td>\n",
              "      <td>0.08</td>\n",
              "      <td>-0.06</td>\n",
              "      <td>-0.13</td>\n",
              "      <td>-0.04</td>\n",
              "      <td>0.34</td>\n",
              "      <td>-0.41</td>\n",
              "      <td>-0.26</td>\n",
              "      <td>0.11</td>\n",
              "      <td>0.41</td>\n",
              "      <td>0.30</td>\n",
              "    </tr>\n",
              "    <tr>\n",
              "      <th>75%</th>\n",
              "      <td>0.57</td>\n",
              "      <td>0.37</td>\n",
              "      <td>0.71</td>\n",
              "      <td>0.77</td>\n",
              "      <td>0.53</td>\n",
              "      <td>0.48</td>\n",
              "      <td>0.66</td>\n",
              "      <td>0.92</td>\n",
              "      <td>0.63</td>\n",
              "      <td>0.44</td>\n",
              "      <td>0.90</td>\n",
              "      <td>0.79</td>\n",
              "      <td>0.29</td>\n",
              "      <td>0.36</td>\n",
              "      <td>0.78</td>\n",
              "      <td>0.75</td>\n",
              "      <td>0.80</td>\n",
              "    </tr>\n",
              "    <tr>\n",
              "      <th>max</th>\n",
              "      <td>0.66</td>\n",
              "      <td>1.52</td>\n",
              "      <td>1.20</td>\n",
              "      <td>1.15</td>\n",
              "      <td>1.54</td>\n",
              "      <td>1.55</td>\n",
              "      <td>1.35</td>\n",
              "      <td>1.09</td>\n",
              "      <td>1.40</td>\n",
              "      <td>1.51</td>\n",
              "      <td>1.17</td>\n",
              "      <td>0.93</td>\n",
              "      <td>1.68</td>\n",
              "      <td>1.61</td>\n",
              "      <td>1.19</td>\n",
              "      <td>0.84</td>\n",
              "      <td>0.97</td>\n",
              "    </tr>\n",
              "  </tbody>\n",
              "</table>\n",
              "</div>"
            ],
            "text/plain": [
              "       Cheese  Carcass_Meat  ...  Alcoholic Drinks  Confectionery\n",
              "count    4.00          4.00  ...              4.00           4.00\n",
              "mean     0.00          0.00  ...              0.00           0.00\n",
              "std      1.15          1.15  ...              1.15           1.15\n",
              "min     -1.73         -1.28  ...             -1.66          -1.58\n",
              "25%     -0.03         -0.49  ...             -0.34          -0.50\n",
              "50%      0.54         -0.12  ...              0.41           0.30\n",
              "75%      0.57          0.37  ...              0.75           0.80\n",
              "max      0.66          1.52  ...              0.84           0.97\n",
              "\n",
              "[8 rows x 17 columns]"
            ]
          },
          "metadata": {
            "tags": []
          },
          "execution_count": 41
        }
      ]
    },
    {
      "cell_type": "code",
      "metadata": {
        "id": "HlVo5mp8qN9P",
        "colab_type": "code",
        "outputId": "46511d26-9c9c-430b-f971-56ee006f2e98",
        "colab": {
          "base_uri": "https://localhost:8080/",
          "height": 323
        }
      },
      "source": [
        "round(standardized.mean(axis=0),2)"
      ],
      "execution_count": 42,
      "outputs": [
        {
          "output_type": "execute_result",
          "data": {
            "text/plain": [
              "Cheese                0.0\n",
              "Carcass_Meat          0.0\n",
              "Other_Meat            0.0\n",
              "Fish                  0.0\n",
              "Fats_and_Oils         0.0\n",
              "Sugars               -0.0\n",
              "Fresh_Potatoes        0.0\n",
              "Fresh_Veg             0.0\n",
              "Other_Veg             0.0\n",
              "Processed_Potatoes    0.0\n",
              "Processed_Veg        -0.0\n",
              "Fresh_Fruit           0.0\n",
              "Cereals               0.0\n",
              "Beverages            -0.0\n",
              "Soft_Drinks          -0.0\n",
              "Alcoholic Drinks      0.0\n",
              "Confectionery         0.0\n",
              "dtype: float64"
            ]
          },
          "metadata": {
            "tags": []
          },
          "execution_count": 42
        }
      ]
    },
    {
      "cell_type": "code",
      "metadata": {
        "id": "quVG3rQvqVC1",
        "colab_type": "code",
        "outputId": "5960aba3-4773-408a-c77c-0c545a371a72",
        "colab": {
          "base_uri": "https://localhost:8080/",
          "height": 323
        }
      },
      "source": [
        "round(standardized.std(axis=0),2) "
      ],
      "execution_count": 43,
      "outputs": [
        {
          "output_type": "execute_result",
          "data": {
            "text/plain": [
              "Cheese                1.15\n",
              "Carcass_Meat          1.15\n",
              "Other_Meat            1.15\n",
              "Fish                  1.15\n",
              "Fats_and_Oils         1.15\n",
              "Sugars                1.15\n",
              "Fresh_Potatoes        1.15\n",
              "Fresh_Veg             1.15\n",
              "Other_Veg             1.15\n",
              "Processed_Potatoes    1.15\n",
              "Processed_Veg         1.15\n",
              "Fresh_Fruit           1.15\n",
              "Cereals               1.15\n",
              "Beverages             1.15\n",
              "Soft_Drinks           1.15\n",
              "Alcoholic Drinks      1.15\n",
              "Confectionery         1.15\n",
              "dtype: float64"
            ]
          },
          "metadata": {
            "tags": []
          },
          "execution_count": 43
        }
      ]
    },
    {
      "cell_type": "markdown",
      "metadata": {
        "id": "5U50KZkdJb_s",
        "colab_type": "text"
      },
      "source": [
        "## 3.2 Perform PCA on the data and graph Principal Component 1 against Principal Component 2. (You may use library functions)\n",
        "\n",
        "This might be helpful:\n",
        "\n",
        "<https://scikit-learn.org/stable/modules/generated/sklearn.decomposition.PCA.html>"
      ]
    },
    {
      "cell_type": "code",
      "metadata": {
        "id": "RqjwVokgP1fL",
        "colab_type": "code",
        "outputId": "e75008e6-e0f0-42c6-ffab-568fed7eadfa",
        "colab": {
          "base_uri": "https://localhost:8080/",
          "height": 476
        }
      },
      "source": [
        "##### Your Code Here #####\n",
        "\n",
        "\n",
        "# Principal Component Analysis\n",
        "from sklearn.decomposition import PCA\n",
        "\n",
        "\n",
        "# create the PCA instance\n",
        "pca = PCA(n_components=2)\n",
        "# fit on data\n",
        "pca.fit(x)\n",
        "print(\"Data: \\n\", x)\n",
        "# access values and vectors\n",
        "print(\"\\n Eigenvectors: \\n\", pca.components_)\n",
        "print(\"\\n Eigenvalues: \\n\",pca.explained_variance_)\n",
        "print('\\n Explained Variance Ratio: \\n', pca.explained_variance_ratio_)\n",
        "\n"
      ],
      "execution_count": 44,
      "outputs": [
        {
          "output_type": "stream",
          "text": [
            "Data: \n",
            " [[ 0.65827466 -0.01749546 -0.25954622  0.64458535 -0.63242919  0.13055067\n",
            "  -0.45007561  0.86331183  0.37773603 -0.33626508  0.80547723  0.73740709\n",
            "  -0.64432226 -0.05191741 -0.43523112  0.10499766 -0.13830319]\n",
            " [ 0.53580495 -1.27716878  1.19885635  1.15244047  1.53589947  1.54795798\n",
            "   0.43569619  1.09352832  1.40168163  0.08406627  1.17160324  0.9292974\n",
            "   1.67946294  1.60943981 -1.40423624  0.84182336  0.96812236]\n",
            " [ 0.53580495 -0.22744102  0.54381113 -0.33205912 -1.09707105 -0.54085279\n",
            "  -1.33584741 -0.70983418 -0.49636387  1.51319287 -0.87870243 -0.0575671\n",
            "  -0.85557546 -0.46725672  1.19072664  0.71656299  0.74683725]\n",
            " [-1.72988456  1.52210526 -1.48312126 -1.4649667   0.19360077 -1.13765587\n",
            "   1.35022682 -1.24700598 -1.28305378 -1.26099406 -1.09837804 -1.60913739\n",
            "  -0.17956522 -1.09026568  0.64874072 -1.66338402 -1.57665641]]\n",
            "\n",
            " Eigenvectors: \n",
            " [[-0.24572131  0.28562914 -0.26481055 -0.28611787 -0.12719487 -0.2811012\n",
            "   0.09775901 -0.26544997 -0.28708628 -0.12073819 -0.25767815 -0.27890521\n",
            "  -0.17843996 -0.27747513  0.22771961 -0.25509484 -0.25275834]\n",
            " [ 0.24708041 -0.07716993  0.13610704 -0.01100602 -0.40054501 -0.13684092\n",
            "  -0.45468785 -0.0964863  -0.09282322  0.41036129 -0.1539603   0.08174644\n",
            "  -0.32902948 -0.13773847  0.29323981  0.23231808  0.21105701]]\n",
            "\n",
            " Eigenvalues: \n",
            " [15.48765084  5.63749203]\n",
            "\n",
            " Explained Variance Ratio: \n",
            " [0.68327871 0.24871288]\n"
          ],
          "name": "stdout"
        }
      ]
    },
    {
      "cell_type": "code",
      "metadata": {
        "id": "BE-dsF1hsBeq",
        "colab_type": "code",
        "outputId": "94e0fb69-a2db-4bad-cc89-186ab1029847",
        "colab": {
          "base_uri": "https://localhost:8080/",
          "height": 136
        }
      },
      "source": [
        "# transform data\n",
        "principalComponents = pca.transform(x)\n",
        "\n",
        "principal_df = pd.DataFrame(data = principalComponents, columns = ['principal component 1', 'principal component 2'])\n",
        "\n",
        "print(\"\\n Projected Data: \\n\",principal_df)\n",
        "\n"
      ],
      "execution_count": 45,
      "outputs": [
        {
          "output_type": "stream",
          "text": [
            "\n",
            " Projected Data: \n",
            "    principal component 1  principal component 2\n",
            "0              -0.954490               0.328318\n",
            "1              -4.520951              -1.735380\n",
            "2               0.487978               3.233672\n",
            "3               4.987462              -1.826611\n"
          ],
          "name": "stdout"
        }
      ]
    },
    {
      "cell_type": "code",
      "metadata": {
        "id": "cKQvJOIssEU_",
        "colab_type": "code",
        "outputId": "7ab4310e-50ef-4d91-e527-ea4bc98d9817",
        "colab": {
          "base_uri": "https://localhost:8080/",
          "height": 102
        }
      },
      "source": [
        "\n",
        "final_df = pd.concat([principal_df, df[['Country']]], axis = 1)\n",
        "print(final_df)"
      ],
      "execution_count": 46,
      "outputs": [
        {
          "output_type": "stream",
          "text": [
            "   principal component 1  principal component 2        Country\n",
            "0              -0.954490               0.328318        England\n",
            "1              -4.520951              -1.735380          Wales\n",
            "2               0.487978               3.233672       Scotland\n",
            "3               4.987462              -1.826611  North Ireland\n"
          ],
          "name": "stdout"
        }
      ]
    },
    {
      "cell_type": "code",
      "metadata": {
        "id": "NEtlMW0-stu3",
        "colab_type": "code",
        "outputId": "d8b3afbb-4063-4a37-d96b-b18e629f6a55",
        "colab": {
          "base_uri": "https://localhost:8080/",
          "height": 523
        }
      },
      "source": [
        "#graph for PCA\n",
        "\n",
        "\n",
        "\n",
        "fig = plt.figure(figsize = (8,8))\n",
        "ax = fig.add_subplot(1,1,1) \n",
        "ax.set_xlabel('Principal Component 1', fontsize = 15)\n",
        "ax.set_ylabel('Principal Component 2', fontsize = 15)\n",
        "ax.set_title('2 component PCA', fontsize = 20)\n",
        "targets = [\"England\",\"Wales\",\"Scotland\",\"North Ireland\"]\n",
        "colors = ['r', 'g', 'b','y']\n",
        "for target, color in zip(targets,colors):\n",
        "    indicesToKeep = final_df['Country'] == target\n",
        "    ax.scatter(final_df.loc[indicesToKeep, 'principal component 1']\n",
        "               , final_df.loc[indicesToKeep, 'principal component 2']\n",
        "               , c = color\n",
        "               , s = 50)\n",
        "ax.legend(targets)\n",
        "ax.grid()\n"
      ],
      "execution_count": 47,
      "outputs": [
        {
          "output_type": "display_data",
          "data": {
            "image/png": "[encoded data removed]",
            "text/plain": [
              "<Figure size 576x576 with 1 Axes>"
            ]
          },
          "metadata": {
            "tags": []
          }
        }
      ]
    },
    {
      "cell_type": "markdown",
      "metadata": {
        "id": "z-RzYKR0C6Wg",
        "colab_type": "text"
      },
      "source": [
        "# Clustering"
      ]
    },
    {
      "cell_type": "markdown",
      "metadata": {
        "id": "62efk4plJe54",
        "colab_type": "text"
      },
      "source": [
        "## 4.1 Use K-Means to cluster the following data and then graph your results. (You may use library functions)\n",
        "\n",
        "We have included some code to get you started so that you don't get stuck on something that isn't standardizing clustering.\n",
        "\n",
        "Prioritize calculating the clusters over graphing them. \n",
        "\n",
        "Scikit-Learn K-Means Documentation:\n",
        "\n",
        "<https://scikit-learn.org/stable/modules/generated/sklearn.cluster.KMeans.html>"
      ]
    },
    {
      "cell_type": "code",
      "metadata": {
        "id": "miK5Aeg-JlzJ",
        "colab_type": "code",
        "outputId": "ef920efc-fedb-4dc9-d966-4e7bd6df5b5f",
        "colab": {
          "base_uri": "https://localhost:8080/",
          "height": 219
        }
      },
      "source": [
        "points = pd.read_csv('https://raw.githubusercontent.com/ryanleeallred/datasets/master/points.csv')\n",
        "print(points.shape)\n",
        "points.head()"
      ],
      "execution_count": 48,
      "outputs": [
        {
          "output_type": "stream",
          "text": [
            "(200, 2)\n"
          ],
          "name": "stdout"
        },
        {
          "output_type": "execute_result",
          "data": {
            "text/html": [
              "<div>\n",
              "<style scoped>\n",
              "    .dataframe tbody tr th:only-of-type {\n",
              "        vertical-align: middle;\n",
              "    }\n",
              "\n",
              "    .dataframe tbody tr th {\n",
              "        vertical-align: top;\n",
              "    }\n",
              "\n",
              "    .dataframe thead th {\n",
              "        text-align: right;\n",
              "    }\n",
              "</style>\n",
              "<table border=\"1\" class=\"dataframe\">\n",
              "  <thead>\n",
              "    <tr style=\"text-align: right;\">\n",
              "      <th></th>\n",
              "      <th>x</th>\n",
              "      <th>y</th>\n",
              "    </tr>\n",
              "  </thead>\n",
              "  <tbody>\n",
              "    <tr>\n",
              "      <th>0</th>\n",
              "      <td>-7.846803</td>\n",
              "      <td>-3.421277</td>\n",
              "    </tr>\n",
              "    <tr>\n",
              "      <th>1</th>\n",
              "      <td>-3.554323</td>\n",
              "      <td>-6.884729</td>\n",
              "    </tr>\n",
              "    <tr>\n",
              "      <th>2</th>\n",
              "      <td>-0.192822</td>\n",
              "      <td>-9.671030</td>\n",
              "    </tr>\n",
              "    <tr>\n",
              "      <th>3</th>\n",
              "      <td>-6.401456</td>\n",
              "      <td>-5.223972</td>\n",
              "    </tr>\n",
              "    <tr>\n",
              "      <th>4</th>\n",
              "      <td>-0.804026</td>\n",
              "      <td>-9.704457</td>\n",
              "    </tr>\n",
              "  </tbody>\n",
              "</table>\n",
              "</div>"
            ],
            "text/plain": [
              "          x         y\n",
              "0 -7.846803 -3.421277\n",
              "1 -3.554323 -6.884729\n",
              "2 -0.192822 -9.671030\n",
              "3 -6.401456 -5.223972\n",
              "4 -0.804026 -9.704457"
            ]
          },
          "metadata": {
            "tags": []
          },
          "execution_count": 48
        }
      ]
    },
    {
      "cell_type": "code",
      "metadata": {
        "id": "qX0zKKznTzcI",
        "colab_type": "code",
        "colab": {}
      },
      "source": [
        "##### Your Code Here #####\n",
        "\n",
        "#standardize the data\n",
        "\n",
        "from sklearn.preprocessing import StandardScaler\n",
        "\n",
        "x=StandardScaler().fit_transform(points)\n"
      ],
      "execution_count": 0,
      "outputs": []
    },
    {
      "cell_type": "code",
      "metadata": {
        "id": "mGm4ia3stdlc",
        "colab_type": "code",
        "outputId": "9239bd21-282e-40f8-e608-a5a502af2fb2",
        "colab": {
          "base_uri": "https://localhost:8080/",
          "height": 1000
        }
      },
      "source": [
        "#PCA\n",
        "\n",
        "# Principal Component Analysis\n",
        "from sklearn.decomposition import PCA\n",
        "pca = PCA(2)\n",
        "# fit on data\n",
        "pca.fit(x)\n",
        "# access values and vectors\n",
        "print(\"\\n Eigenvectors: \\n\", pca.components_.round(decimals=4))\n",
        "print(\"\\n Eigenvalues: \\n\",pca.explained_variance_.round(decimals=4))\n",
        "print('\\n Explained Variance Ratio: \\n', pca.explained_variance_ratio_.round(decimals=4))\n",
        "# transform data\n",
        "B = pca.transform(x)\n",
        "print(\"\\n Projected Data: \\n\", B.round(decimals=4))\n",
        "\n",
        "df2 = pd.DataFrame(B)\n",
        "\n",
        "df2.columns=['x','y']\n",
        "df2.head()"
      ],
      "execution_count": 50,
      "outputs": [
        {
          "output_type": "stream",
          "text": [
            "\n",
            " Eigenvectors: \n",
            " [[ 0.7071  0.7071]\n",
            " [ 0.7071 -0.7071]]\n",
            "\n",
            " Eigenvalues: \n",
            " [1.3736 0.6365]\n",
            "\n",
            " Explained Variance Ratio: \n",
            " [0.6834 0.3166]\n",
            "\n",
            " Projected Data: \n",
            " [[-0.8591 -0.8595]\n",
            " [-0.6312  0.2482]\n",
            " [-0.4622  1.1251]\n",
            " [-0.8632 -0.4057]\n",
            " [-0.5615  1.0342]\n",
            " [-0.7579 -0.0679]\n",
            " [-0.9272 -0.8761]\n",
            " [-0.8252 -0.9865]\n",
            " [ 0.9272 -1.3146]\n",
            " [-0.9564 -0.0979]\n",
            " [-0.8425  0.3189]\n",
            " [-0.7785  0.1488]\n",
            " [-0.5431  1.2731]\n",
            " [-0.9567  0.2317]\n",
            " [-1.0437 -0.8044]\n",
            " [-0.8915  1.0577]\n",
            " [-0.9388 -0.6927]\n",
            " [-0.3997  0.1885]\n",
            " [-0.5995  0.5206]\n",
            " [ 2.3704  0.4498]\n",
            " [-0.8432 -0.9125]\n",
            " [ 2.4078  0.2647]\n",
            " [ 2.3389  0.3396]\n",
            " [ 2.3495  0.3664]\n",
            " [-0.7029  0.5901]\n",
            " [-1.2123  0.2913]\n",
            " [-0.4774  1.2224]\n",
            " [ 1.0494 -0.837 ]\n",
            " [-0.9832  0.2727]\n",
            " [-0.8555  0.121 ]\n",
            " [-0.6676  0.4053]\n",
            " [-0.5096  0.4333]\n",
            " [-0.1886  0.8833]\n",
            " [ 2.1941  0.6576]\n",
            " [-1.341   0.0686]\n",
            " [-0.8094  0.0984]\n",
            " [-0.6752  0.5538]\n",
            " [-0.5182  0.2564]\n",
            " [ 0.7891 -1.2038]\n",
            " [-0.631   0.8709]\n",
            " [-0.3596  1.508 ]\n",
            " [ 2.4043  0.316 ]\n",
            " [ 0.8803 -1.0323]\n",
            " [ 0.8172 -1.2432]\n",
            " [ 0.5845 -1.1703]\n",
            " [-0.3318  0.1053]\n",
            " [-0.4528  0.6026]\n",
            " [-0.5311  0.3369]\n",
            " [-0.8356 -1.0114]\n",
            " [-0.3347  1.0732]\n",
            " [ 1.9887  0.0133]\n",
            " [-0.5425 -0.7418]\n",
            " [-0.8674 -0.9607]\n",
            " [ 0.6734 -1.2272]\n",
            " [ 2.7308  0.3667]\n",
            " [-0.1013  1.2569]\n",
            " [-0.6555  0.1274]\n",
            " [ 0.4346 -1.3017]\n",
            " [ 0.7474 -1.2594]\n",
            " [-0.9453 -0.9917]\n",
            " [ 1.973   0.2403]\n",
            " [-0.3042  0.9331]\n",
            " [-0.9744 -1.0248]\n",
            " [ 0.8739 -1.2547]\n",
            " [ 1.9158  0.252 ]\n",
            " [ 1.0364 -1.0568]\n",
            " [ 2.2877  0.3138]\n",
            " [ 0.6609 -1.0594]\n",
            " [-0.8782 -0.4533]\n",
            " [ 0.4982 -1.411 ]\n",
            " [-0.384   0.5628]\n",
            " [-0.6957  0.1954]\n",
            " [-0.9931  0.3396]\n",
            " [-1.0095  0.2527]\n",
            " [ 2.2713  0.6158]\n",
            " [ 2.289   0.6275]\n",
            " [-0.9087  0.1371]\n",
            " [-0.8285  0.2477]\n",
            " [ 0.9776 -0.906 ]\n",
            " [ 2.1409  0.451 ]\n",
            " [ 0.7522 -1.2858]\n",
            " [-0.6843  0.0328]\n",
            " [-0.9964  0.4142]\n",
            " [-0.4356 -0.0139]\n",
            " [ 0.5657 -0.905 ]\n",
            " [-0.5993  0.3365]\n",
            " [ 0.6803 -1.1206]\n",
            " [-0.8229  0.6031]\n",
            " [-1.1281  0.2073]\n",
            " [ 2.0694  0.1494]\n",
            " [ 0.8581 -0.9741]\n",
            " [-0.7133  0.3029]\n",
            " [ 1.7057  0.1774]\n",
            " [-0.4714  0.4084]\n",
            " [-0.6389  1.2568]\n",
            " [-0.957   0.3402]\n",
            " [-0.4983  0.4976]\n",
            " [-1.0821  0.6393]\n",
            " [-0.4374  0.362 ]\n",
            " [-0.4564  1.2359]\n",
            " [-0.7263  0.5786]\n",
            " [-0.3292  0.4655]\n",
            " [-1.324  -0.8239]\n",
            " [-1.026   0.079 ]\n",
            " [-0.5824  0.1388]\n",
            " [ 2.2346  0.6723]\n",
            " [-1.0154 -1.1477]\n",
            " [-1.1511 -0.8692]\n",
            " [-0.9346 -0.9799]\n",
            " [ 2.2994  0.2482]\n",
            " [-0.6714  1.0048]\n",
            " [ 2.1528  0.4567]\n",
            " [-0.9069  0.2921]\n",
            " [-1.2039 -1.2215]\n",
            " [-0.5038  0.6768]\n",
            " [-0.7903 -0.0043]\n",
            " [ 0.4427 -1.1082]\n",
            " [ 0.4543 -1.0007]\n",
            " [ 2.4775  0.4824]\n",
            " [ 0.589  -1.4878]\n",
            " [ 2.2918  0.5301]\n",
            " [-0.3519  1.414 ]\n",
            " [-1.1844  0.4942]\n",
            " [-0.9422 -0.7628]\n",
            " [-1.2052  0.211 ]\n",
            " [-0.7988 -0.8397]\n",
            " [-0.5192  0.5075]\n",
            " [ 2.3419  0.444 ]\n",
            " [ 0.7257 -1.0082]\n",
            " [-0.8669 -0.9432]\n",
            " [-0.7853  0.9437]\n",
            " [-1.0755 -0.9733]\n",
            " [-1.2705  0.1908]\n",
            " [-1.0248 -1.1799]\n",
            " [ 0.6132 -1.2858]\n",
            " [ 1.0795 -0.9282]\n",
            " [-0.6132  1.1111]\n",
            " [ 2.4057  0.7136]\n",
            " [-1.0352 -0.974 ]\n",
            " [-0.7776  0.1689]\n",
            " [ 1.1033 -0.9745]\n",
            " [-0.7204  0.3765]\n",
            " [-0.8712  0.5206]\n",
            " [ 2.3463  0.6147]\n",
            " [-0.3084  1.1362]\n",
            " [ 0.6246 -1.2396]\n",
            " [-0.5313  0.3659]\n",
            " [ 0.7645 -1.3879]\n",
            " [-0.9831 -1.0667]\n",
            " [-0.7399  0.3083]\n",
            " [-0.8635  0.5403]\n",
            " [-0.5813  0.9562]\n",
            " [-0.9914 -0.7128]\n",
            " [ 2.1704  0.4612]\n",
            " [-1.0466  0.4148]\n",
            " [ 0.7995 -1.3436]\n",
            " [-0.3926  1.2316]\n",
            " [ 2.318   0.4251]\n",
            " [-0.4703  0.1504]\n",
            " [-1.0545 -1.1703]\n",
            " [-0.7513  0.997 ]\n",
            " [-0.7857  0.5094]\n",
            " [ 0.9058 -1.263 ]\n",
            " [-0.7773 -1.2174]\n",
            " [ 2.1019  0.3697]\n",
            " [ 2.2688  0.3586]\n",
            " [-0.5374  0.6808]\n",
            " [ 0.7407 -0.8671]\n",
            " [-0.4579  1.1597]\n",
            " [-0.1313  1.093 ]\n",
            " [-1.2868 -1.0547]\n",
            " [-0.5799  1.1608]\n",
            " [ 0.8244 -1.216 ]\n",
            " [ 2.4515  0.7008]\n",
            " [-0.5532  1.0955]\n",
            " [-0.4596  0.4929]\n",
            " [-0.5424  0.1979]\n",
            " [-0.8101  0.3759]\n",
            " [-0.9247 -0.1268]\n",
            " [-0.8925 -0.6443]\n",
            " [-0.6375  0.0594]\n",
            " [-0.3946  0.8688]\n",
            " [-0.4495  0.1189]\n",
            " [-0.6656  0.5295]\n",
            " [-0.726   0.8978]\n",
            " [-0.7935  0.6462]\n",
            " [-1.3032 -1.0139]\n",
            " [ 2.3338  0.701 ]\n",
            " [ 0.8359 -1.3336]\n",
            " [-0.2671  1.0054]\n",
            " [-0.7651  0.4025]\n",
            " [-1.1841 -0.9408]\n",
            " [ 2.3664  0.3264]\n",
            " [-0.6311 -0.9744]\n",
            " [-1.096   0.3935]\n",
            " [ 0.8224 -1.2074]\n",
            " [ 2.1848  0.1098]\n",
            " [ 2.2938  0.3357]\n",
            " [-0.6104  0.7785]\n",
            " [-0.3166  0.9338]]\n"
          ],
          "name": "stdout"
        },
        {
          "output_type": "execute_result",
          "data": {
            "text/html": [
              "<div>\n",
              "<style scoped>\n",
              "    .dataframe tbody tr th:only-of-type {\n",
              "        vertical-align: middle;\n",
              "    }\n",
              "\n",
              "    .dataframe tbody tr th {\n",
              "        vertical-align: top;\n",
              "    }\n",
              "\n",
              "    .dataframe thead th {\n",
              "        text-align: right;\n",
              "    }\n",
              "</style>\n",
              "<table border=\"1\" class=\"dataframe\">\n",
              "  <thead>\n",
              "    <tr style=\"text-align: right;\">\n",
              "      <th></th>\n",
              "      <th>x</th>\n",
              "      <th>y</th>\n",
              "    </tr>\n",
              "  </thead>\n",
              "  <tbody>\n",
              "    <tr>\n",
              "      <th>0</th>\n",
              "      <td>-0.859119</td>\n",
              "      <td>-0.859524</td>\n",
              "    </tr>\n",
              "    <tr>\n",
              "      <th>1</th>\n",
              "      <td>-0.631241</td>\n",
              "      <td>0.248206</td>\n",
              "    </tr>\n",
              "    <tr>\n",
              "      <th>2</th>\n",
              "      <td>-0.462188</td>\n",
              "      <td>1.125087</td>\n",
              "    </tr>\n",
              "    <tr>\n",
              "      <th>3</th>\n",
              "      <td>-0.863236</td>\n",
              "      <td>-0.405686</td>\n",
              "    </tr>\n",
              "    <tr>\n",
              "      <th>4</th>\n",
              "      <td>-0.561522</td>\n",
              "      <td>1.034245</td>\n",
              "    </tr>\n",
              "  </tbody>\n",
              "</table>\n",
              "</div>"
            ],
            "text/plain": [
              "          x         y\n",
              "0 -0.859119 -0.859524\n",
              "1 -0.631241  0.248206\n",
              "2 -0.462188  1.125087\n",
              "3 -0.863236 -0.405686\n",
              "4 -0.561522  1.034245"
            ]
          },
          "metadata": {
            "tags": []
          },
          "execution_count": 50
        }
      ]
    },
    {
      "cell_type": "code",
      "metadata": {
        "id": "BVV-aNZ_tk0t",
        "colab_type": "code",
        "outputId": "2ca31039-2c4e-4f65-af57-d681f1123f8b",
        "colab": {
          "base_uri": "https://localhost:8080/",
          "height": 295
        }
      },
      "source": [
        "#Elbow plot\n",
        "from sklearn.cluster import KMeans\n",
        "\n",
        "sum_of_squared_distances = []\n",
        "K = range(1,15)\n",
        "for k in K:\n",
        "    km = KMeans(n_clusters=k)\n",
        "    km = km.fit(df2)\n",
        "    sum_of_squared_distances.append(km.inertia_)\n",
        "    \n",
        "plt.plot(K, sum_of_squared_distances, 'bx-')\n",
        "plt.xlabel('k')\n",
        "plt.ylabel('Sum_of_squared_distances')\n",
        "plt.title('Elbow Method For Optimal k')\n",
        "plt.show()"
      ],
      "execution_count": 51,
      "outputs": [
        {
          "output_type": "display_data",
          "data": {
            "image/png": "[encoded data removed]",
            "text/plain": [
              "<Figure size 432x288 with 1 Axes>"
            ]
          },
          "metadata": {
            "tags": []
          }
        }
      ]
    },
    {
      "cell_type": "code",
      "metadata": {
        "id": "DX9sYjgctpoa",
        "colab_type": "code",
        "outputId": "5f0fda76-c432-4a07-9c34-a7b90deda76e",
        "colab": {
          "base_uri": "https://localhost:8080/",
          "height": 306
        }
      },
      "source": [
        "#K-means Cluster\n",
        "\n",
        "from sklearn.cluster import KMeans \n",
        "kmeans = KMeans(n_clusters=4)\n",
        "kmeans.fit(df2)\n",
        "labels = kmeans.labels_\n",
        "\n",
        "print(labels)\n",
        "\n",
        "# Add our new labels to the dataframe\n",
        "new_series = pd.Series(labels)\n",
        "df2['cluster_1'] = new_series.values\n",
        "\n",
        "df2.head()"
      ],
      "execution_count": 52,
      "outputs": [
        {
          "output_type": "stream",
          "text": [
            "[1 2 2 1 2 2 1 1 3 2 2 2 2 2 1 2 1 2 2 0 1 0 0 0 2 2 2 3 2 2 2 2 2 0 2 2 2\n",
            " 2 3 2 2 0 3 3 3 2 2 2 1 2 0 1 1 3 0 2 2 3 3 1 0 2 1 3 0 3 0 3 1 3 2 2 2 2\n",
            " 0 0 2 2 3 0 3 2 2 2 3 2 3 2 2 0 3 2 0 2 2 2 2 2 2 2 2 2 1 2 2 0 1 1 1 0 2\n",
            " 0 2 1 2 2 3 3 0 3 0 2 2 1 2 1 2 0 3 1 2 1 2 1 3 3 2 0 1 2 3 2 2 0 2 3 2 3\n",
            " 1 2 2 2 1 0 2 3 2 0 2 1 2 2 3 1 0 0 2 3 2 2 1 2 3 0 2 2 2 2 2 1 2 2 2 2 2\n",
            " 2 1 0 3 2 2 1 0 1 2 3 0 0 2 2]\n"
          ],
          "name": "stdout"
        },
        {
          "output_type": "execute_result",
          "data": {
            "text/html": [
              "<div>\n",
              "<style scoped>\n",
              "    .dataframe tbody tr th:only-of-type {\n",
              "        vertical-align: middle;\n",
              "    }\n",
              "\n",
              "    .dataframe tbody tr th {\n",
              "        vertical-align: top;\n",
              "    }\n",
              "\n",
              "    .dataframe thead th {\n",
              "        text-align: right;\n",
              "    }\n",
              "</style>\n",
              "<table border=\"1\" class=\"dataframe\">\n",
              "  <thead>\n",
              "    <tr style=\"text-align: right;\">\n",
              "      <th></th>\n",
              "      <th>x</th>\n",
              "      <th>y</th>\n",
              "      <th>cluster_1</th>\n",
              "    </tr>\n",
              "  </thead>\n",
              "  <tbody>\n",
              "    <tr>\n",
              "      <th>0</th>\n",
              "      <td>-0.859119</td>\n",
              "      <td>-0.859524</td>\n",
              "      <td>1</td>\n",
              "    </tr>\n",
              "    <tr>\n",
              "      <th>1</th>\n",
              "      <td>-0.631241</td>\n",
              "      <td>0.248206</td>\n",
              "      <td>2</td>\n",
              "    </tr>\n",
              "    <tr>\n",
              "      <th>2</th>\n",
              "      <td>-0.462188</td>\n",
              "      <td>1.125087</td>\n",
              "      <td>2</td>\n",
              "    </tr>\n",
              "    <tr>\n",
              "      <th>3</th>\n",
              "      <td>-0.863236</td>\n",
              "      <td>-0.405686</td>\n",
              "      <td>1</td>\n",
              "    </tr>\n",
              "    <tr>\n",
              "      <th>4</th>\n",
              "      <td>-0.561522</td>\n",
              "      <td>1.034245</td>\n",
              "      <td>2</td>\n",
              "    </tr>\n",
              "  </tbody>\n",
              "</table>\n",
              "</div>"
            ],
            "text/plain": [
              "          x         y  cluster_1\n",
              "0 -0.859119 -0.859524          1\n",
              "1 -0.631241  0.248206          2\n",
              "2 -0.462188  1.125087          2\n",
              "3 -0.863236 -0.405686          1\n",
              "4 -0.561522  1.034245          2"
            ]
          },
          "metadata": {
            "tags": []
          },
          "execution_count": 52
        }
      ]
    },
    {
      "cell_type": "code",
      "metadata": {
        "id": "-OU8zBOpuLro",
        "colab_type": "code",
        "outputId": "5600cfd4-9bca-4bf7-e952-ca673383d840",
        "colab": {
          "base_uri": "https://localhost:8080/",
          "height": 283
        }
      },
      "source": [
        "# Plotting clusters function from lecture\n",
        "def plot_clusters(df, column_header, centroids):\n",
        "  colors = {0:'red', 1:'green', 2:'yellow', 3:'purple'}\n",
        "  fig, ax = plt.subplots()\n",
        "  ax.plot(centroids.iloc[0].x, centroids.iloc[0].y, \"ok\")\n",
        "  ax.plot(centroids.iloc[1].x, centroids.iloc[1].y, \"ok\")\n",
        "  ax.plot(centroids.iloc[2].x, centroids.iloc[2].y, \"ok\")\n",
        "  ax.plot(centroids.iloc[3].x, centroids.iloc[3].y, \"ok\")\n",
        "  grouped = df.groupby(column_header)\n",
        "  for key, group in grouped:\n",
        "      group.plot(ax=ax, kind='scatter', x='x', y='y', label=key, color=colors[key])\n",
        "  plt.show()\n",
        "def get_centroids(df, column_header):\n",
        "  x = [df.x[df[column_header]==0].mean(), df.x[df[column_header]==1].mean(), df.x[df[column_header]==2].mean(),df.x[df[column_header]==3].mean()]\n",
        "  y = [df.y[df[column_header]==0].mean(), df.y[df[column_header]==1].mean(), df.y[df[column_header]==2].mean(),df.y[df[column_header]==3].mean()]\n",
        "  data = {'x': x, 'y' : y}\n",
        "  return pd.DataFrame(data)\n",
        "  \n",
        "  \n",
        "centroids = get_centroids(df2, 'cluster_1')\n",
        "plot_clusters(df2, 'cluster_1', centroids)"
      ],
      "execution_count": 53,
      "outputs": [
        {
          "output_type": "display_data",
          "data": {
            "image/png": "[encoded data removed]",
            "text/plain": [
              "<Figure size 432x288 with 1 Axes>"
            ]
          },
          "metadata": {
            "tags": []
          }
        }
      ]
    },
    {
      "cell_type": "code",
      "metadata": {
        "id": "GsQiP3nr4MDN",
        "colab_type": "code",
        "colab": {}
      },
      "source": [
        ""
      ],
      "execution_count": 0,
      "outputs": []
    }
  ]
}